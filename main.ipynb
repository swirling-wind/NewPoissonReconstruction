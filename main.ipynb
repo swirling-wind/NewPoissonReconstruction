{
 "cells": [
  {
   "cell_type": "code",
   "execution_count": 4,
   "metadata": {},
   "outputs": [],
   "source": [
    "import numpy as np\n",
    "from scipy.sparse import coo_matrix, vstack\n",
    "import mcubes\n",
    "import open3d as o3d\n",
    "import trimesh\n",
    "\n",
    "import meshplot as mpl"
   ]
  },
  {
   "cell_type": "code",
   "execution_count": 5,
   "metadata": {},
   "outputs": [],
   "source": [
    "\n",
    "\n",
    "\n",
    "def generate_point_cloud_with_normals(mesh, num_points=1000):\n",
    "    random_indices = np.random.choice(mesh.vertices.shape[0], num_points, replace=False)\n",
    "    points = mesh.vertices[random_indices]\n",
    "    normals = mesh.vertex_normals[random_indices]\n",
    "    pc_mesh = trimesh.Trimesh(vertices=points, vertex_normals=normals)\n",
    "    return pc_mesh"
   ]
  },
  {
   "cell_type": "code",
   "execution_count": 6,
   "metadata": {},
   "outputs": [
    {
     "data": {
      "text/plain": [
       "0"
      ]
     },
     "execution_count": 6,
     "metadata": {},
     "output_type": "execute_result"
    }
   ],
   "source": [
    "mesh_name = \"bun_zipper_res3.ply\"\n",
    "original_mesh = trimesh.load_mesh(mesh_name)\n",
    "point_cloud = generate_point_cloud_with_normals(original_mesh, num_points=1000)\n",
    "point_cloud.export(\"pc_\" + mesh_name)\n",
    "0"
   ]
  }
 ],
 "metadata": {
  "kernelspec": {
   "display_name": "imageprocessing",
   "language": "python",
   "name": "python3"
  },
  "language_info": {
   "codemirror_mode": {
    "name": "ipython",
    "version": 3
   },
   "file_extension": ".py",
   "mimetype": "text/x-python",
   "name": "python",
   "nbconvert_exporter": "python",
   "pygments_lexer": "ipython3",
   "version": "3.9.18"
  }
 },
 "nbformat": 4,
 "nbformat_minor": 2
}
